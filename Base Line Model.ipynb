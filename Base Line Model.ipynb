{
  "nbformat": 4,
  "nbformat_minor": 0,
  "metadata": {
    "colab": {
      "provenance": [],
      "include_colab_link": true
    },
    "kernelspec": {
      "name": "python3",
      "display_name": "Python 3"
    },
    "language_info": {
      "name": "python"
    }
  },
  "cells": [
    {
      "cell_type": "markdown",
      "metadata": {
        "id": "view-in-github",
        "colab_type": "text"
      },
      "source": [
        "<a href=\"https://colab.research.google.com/github/Bibirara/Natural-Disaster-Shock/blob/main/Base%20Line%20Model.ipynb\" target=\"_parent\"><img src=\"https://colab.research.google.com/assets/colab-badge.svg\" alt=\"Open In Colab\"/></a>"
      ]
    },
    {
      "cell_type": "code",
      "execution_count": 1,
      "metadata": {
        "id": "UtC-3KKC3s_l",
        "outputId": "0ae6656f-338c-4087-9591-e21921c999bf",
        "colab": {
          "base_uri": "https://localhost:8080/"
        }
      },
      "outputs": [
        {
          "output_type": "stream",
          "name": "stdout",
          "text": [
            "Collecting quantecon\n",
            "  Downloading quantecon-0.7.2-py3-none-any.whl (215 kB)\n",
            "\u001b[2K     \u001b[90m━━━━━━━━━━━━━━━━━━━━━━━━━━━━━━━━━━━━━━━━\u001b[0m \u001b[32m215.4/215.4 kB\u001b[0m \u001b[31m3.2 MB/s\u001b[0m eta \u001b[36m0:00:00\u001b[0m\n",
            "\u001b[?25hRequirement already satisfied: numba>=0.49.0 in /usr/local/lib/python3.10/dist-packages (from quantecon) (0.58.1)\n",
            "Requirement already satisfied: numpy>=1.17.0 in /usr/local/lib/python3.10/dist-packages (from quantecon) (1.25.2)\n",
            "Requirement already satisfied: requests in /usr/local/lib/python3.10/dist-packages (from quantecon) (2.31.0)\n",
            "Requirement already satisfied: scipy>=1.5.0 in /usr/local/lib/python3.10/dist-packages (from quantecon) (1.11.4)\n",
            "Requirement already satisfied: sympy in /usr/local/lib/python3.10/dist-packages (from quantecon) (1.12)\n",
            "Requirement already satisfied: llvmlite<0.42,>=0.41.0dev0 in /usr/local/lib/python3.10/dist-packages (from numba>=0.49.0->quantecon) (0.41.1)\n",
            "Requirement already satisfied: charset-normalizer<4,>=2 in /usr/local/lib/python3.10/dist-packages (from requests->quantecon) (3.3.2)\n",
            "Requirement already satisfied: idna<4,>=2.5 in /usr/local/lib/python3.10/dist-packages (from requests->quantecon) (3.7)\n",
            "Requirement already satisfied: urllib3<3,>=1.21.1 in /usr/local/lib/python3.10/dist-packages (from requests->quantecon) (2.0.7)\n",
            "Requirement already satisfied: certifi>=2017.4.17 in /usr/local/lib/python3.10/dist-packages (from requests->quantecon) (2024.2.2)\n",
            "Requirement already satisfied: mpmath>=0.19 in /usr/local/lib/python3.10/dist-packages (from sympy->quantecon) (1.3.0)\n",
            "Installing collected packages: quantecon\n",
            "Successfully installed quantecon-0.7.2\n"
          ]
        }
      ],
      "source": [
        "!pip install --upgrade quantecon\n",
        "import matplotlib.pyplot as plt\n",
        "import numpy as np\n",
        "import quantecon as qe\n",
        "\n",
        "from numba import njit, prange\n",
        "%matplotlib inline"
      ]
    },
    {
      "cell_type": "code",
      "source": [
        "class Arellano_Economy:\n",
        "    \" Stores data and creates primitives for the Arellano economy. \"\n",
        "\n",
        "    def __init__(self,\n",
        "            B_grid_size= 251,   # Grid size for bonds\n",
        "            B_grid_min=-0.45,   # Smallest B value\n",
        "            B_grid_max=0.45,    # Largest B value\n",
        "            y_grid_size=51,     # Grid size for income\n",
        "            β=0.953,            # Time discount parameter\n",
        "            γ=2.0,              # Utility parameter\n",
        "            r=0.017,            # Lending rate\n",
        "            ρ=0.945,            # Persistence in the income process\n",
        "            η=0.025,            # Standard deviation of the income process\n",
        "            θ=0.282,            # Prob of re-entering financial markets\n",
        "            def_y_param=0.969): # Parameter governing income in default\n",
        "\n",
        "        # Save parameters\n",
        "        self.β, self.γ, self.r = β, γ, r\n",
        "        self.ρ, self.η, self.θ = ρ, η, θ\n",
        "\n",
        "        self.y_grid_size = y_grid_size\n",
        "        self.B_grid_size = B_grid_size\n",
        "        self.B_grid = np.linspace(B_grid_min, B_grid_max, B_grid_size)\n",
        "        mc = qe.markov.tauchen(y_grid_size, ρ, η, 0, 3)\n",
        "        self.y_grid, self.P = np.exp(mc.state_values), mc.P\n",
        "\n",
        "        # The index at which B_grid is (close to) zero\n",
        "        self.B0_idx = np.searchsorted(self.B_grid, 1e-10)\n",
        "\n",
        "        # Output recieved while in default, with same shape as y_grid\n",
        "        self.def_y = np.minimum(def_y_param * np.mean(self.y_grid), self.y_grid)\n",
        "\n",
        "    def params(self):\n",
        "        return self.β, self.γ, self.r, self.ρ, self.η, self.θ\n",
        "\n",
        "    def arrays(self):\n",
        "        return self.P, self.y_grid, self.B_grid, self.def_y, self.B0_idx"
      ],
      "metadata": {
        "id": "-mdvb8yS9LZ_"
      },
      "execution_count": 3,
      "outputs": []
    },
    {
      "cell_type": "code",
      "source": [
        "@njit\n",
        "def u(c, γ):\n",
        "    return c**(1-γ)/(1-γ)"
      ],
      "metadata": {
        "id": "rJc9ASHGcu2d"
      },
      "execution_count": 15,
      "outputs": []
    },
    {
      "cell_type": "code",
      "source": [
        "@njit\n",
        "def compute_q(v_c, v_d, q, params, arrays):\n",
        "    \"\"\"\n",
        "    Compute the bond price function q(b, y) at each (b, y) pair.\n",
        "\n",
        "    This function writes to the array q that is passed in as an argument.\n",
        "    \"\"\"\n",
        "\n",
        "    # Unpack\n",
        "    β, γ, r, ρ, η, θ = params\n",
        "    P, y_grid, B_grid, def_y, B0_idx = arrays\n",
        "\n",
        "    for B_idx in range(len(B_grid)):\n",
        "        for y_idx in range(len(y_grid)):\n",
        "            # Compute default probability and corresponding bond price\n",
        "            delta = P[y_idx, v_c[B_idx, :] < v_d].sum()\n",
        "            q[B_idx, y_idx] = (1 - delta ) / (1 + r)"
      ],
      "metadata": {
        "id": "ACRdnoZKdktt"
      },
      "execution_count": 4,
      "outputs": []
    },
    {
      "cell_type": "code",
      "source": [
        "@njit\n",
        "def T_d(y_idx, v_c, v_d, params, arrays):\n",
        "    \"\"\"\n",
        "    The RHS of the Bellman equation when income is at index y_idx and\n",
        "    the country has chosen to default.  Returns an update of v_d.\n",
        "    \"\"\"\n",
        "    # Unpack\n",
        "    β, γ, r, ρ, η, θ = params\n",
        "    P, y_grid, B_grid, def_y, B0_idx = arrays\n",
        "\n",
        "    current_utility = u(def_y[y_idx], γ)\n",
        "    v = np.maximum(v_c[B0_idx, :], v_d)\n",
        "    cont_value = np.sum((θ * v + (1 - θ) * v_d) * P[y_idx, :])\n",
        "\n",
        "    return current_utility + β * cont_value\n",
        "\n",
        "\n",
        "@njit\n",
        "def T_c(B_idx, y_idx, v_c, v_d, q, params, arrays):\n",
        "    \"\"\"\n",
        "    The RHS of the Bellman equation when the country is not in a\n",
        "    defaulted state on their debt.  Returns a value that corresponds to\n",
        "    v_c[B_idx, y_idx], as well as the optimal level of bond sales B'.\n",
        "    \"\"\"\n",
        "    # Unpack\n",
        "    β, γ, r, ρ, η, θ = params\n",
        "    P, y_grid, B_grid, def_y, B0_idx = arrays\n",
        "    B = B_grid[B_idx]\n",
        "    y = y_grid[y_idx]\n",
        "\n",
        "    # Compute the RHS of Bellman equation\n",
        "    current_max = -1e10\n",
        "    # Step through choices of next period B'\n",
        "    for Bp_idx, Bp in enumerate(B_grid):\n",
        "        c = y + B - q[Bp_idx, y_idx] * Bp\n",
        "        if c > 0:\n",
        "            v = np.maximum(v_c[Bp_idx, :], v_d)\n",
        "            val = u(c, γ) + β * np.sum(v * P[y_idx, :])\n",
        "            if val > current_max:\n",
        "                current_max = val\n",
        "                Bp_star_idx = Bp_idx\n",
        "    return current_max, Bp_star_idx"
      ],
      "metadata": {
        "id": "FdQt1faVdmsT"
      },
      "execution_count": 5,
      "outputs": []
    },
    {
      "cell_type": "code",
      "source": [
        "@njit(parallel=True)\n",
        "def update_values_and_prices(v_c, v_d,      # Current guess of value functions\n",
        "                             B_star, q,     # Arrays to be written to\n",
        "                             params, arrays):\n",
        "\n",
        "    # Unpack\n",
        "    β, γ, r, ρ, η, θ = params\n",
        "    P, y_grid, B_grid, def_y, B0_idx = arrays\n",
        "    y_grid_size = len(y_grid)\n",
        "    B_grid_size = len(B_grid)\n",
        "\n",
        "    # Compute bond prices and write them to q\n",
        "    compute_q(v_c, v_d, q, params, arrays)\n",
        "\n",
        "    # Allocate memory\n",
        "    new_v_c = np.empty_like(v_c)\n",
        "    new_v_d = np.empty_like(v_d)\n",
        "\n",
        "    # Calculate and return new guesses for v_c and v_d\n",
        "    for y_idx in prange(y_grid_size):\n",
        "        new_v_d[y_idx] = T_d(y_idx, v_c, v_d, params, arrays)\n",
        "        for B_idx in range(B_grid_size):\n",
        "            new_v_c[B_idx, y_idx], Bp_idx = T_c(B_idx, y_idx,\n",
        "                                            v_c, v_d, q, params, arrays)\n",
        "            B_star[B_idx, y_idx] = Bp_idx\n",
        "\n",
        "    return new_v_c, new_v_d"
      ],
      "metadata": {
        "id": "cjuOFBefdppa"
      },
      "execution_count": 6,
      "outputs": []
    },
    {
      "cell_type": "code",
      "source": [
        "def solve(model, tol=1e-8, max_iter=10_000):\n",
        "    \"\"\"\n",
        "    Given an instance of Arellano_Economy, this function computes the optimal\n",
        "    policy and value functions.\n",
        "    \"\"\"\n",
        "    # Unpack\n",
        "    params = model.params()\n",
        "    arrays = model.arrays()\n",
        "    y_grid_size, B_grid_size = model.y_grid_size, model.B_grid_size\n",
        "\n",
        "    # Initial conditions for v_c and v_d\n",
        "    v_c = np.zeros((B_grid_size, y_grid_size))\n",
        "    v_d = np.zeros(y_grid_size)\n",
        "\n",
        "    # Allocate memory\n",
        "    q = np.empty_like(v_c)\n",
        "    B_star = np.empty_like(v_c, dtype=int)\n",
        "\n",
        "    current_iter = 0\n",
        "    dist = np.inf\n",
        "    while (current_iter < max_iter) and (dist > tol):\n",
        "\n",
        "        if current_iter % 100 == 0:\n",
        "            print(f\"Entering iteration {current_iter}.\")\n",
        "\n",
        "        new_v_c, new_v_d = update_values_and_prices(v_c, v_d, B_star, q, params, arrays)\n",
        "        # Check tolerance and update\n",
        "        dist = np.max(np.abs(new_v_c - v_c)) + np.max(np.abs(new_v_d - v_d))\n",
        "        v_c = new_v_c\n",
        "        v_d = new_v_d\n",
        "        current_iter += 1\n",
        "\n",
        "    print(f\"Terminating at iteration {current_iter}.\")\n",
        "    return v_c, v_d, q, B_star"
      ],
      "metadata": {
        "id": "pG8UyAw1dr0d"
      },
      "execution_count": 7,
      "outputs": []
    },
    {
      "cell_type": "code",
      "source": [
        "def simulate(model, T, v_c, v_d, q, B_star, y_idx=None, B_idx=None):\n",
        "    \"\"\"\n",
        "    Simulates the Arellano 2008 model of sovereign debt\n",
        "\n",
        "    Here `model` is an instance of `Arellano_Economy` and `T` is the length of\n",
        "    the simulation.  Endogenous objects `v_c`, `v_d`, `q` and `B_star` are\n",
        "    assumed to come from a solution to `model`.\n",
        "\n",
        "    \"\"\"\n",
        "    # Unpack elements of the model\n",
        "    B0_idx = model.B0_idx\n",
        "    y_grid = model.y_grid\n",
        "    B_grid, y_grid, P = model.B_grid, model.y_grid, model.P\n",
        "\n",
        "    # Set initial conditions to middle of grids\n",
        "    if y_idx == None:\n",
        "        y_idx = np.searchsorted(y_grid, y_grid.mean())\n",
        "    if B_idx == None:\n",
        "        B_idx = B0_idx\n",
        "    in_default = False\n",
        "\n",
        "    # Create Markov chain and simulate income process\n",
        "    mc = qe.MarkovChain(P, y_grid)\n",
        "    y_sim_indices = mc.simulate_indices(T+1, init=y_idx)\n",
        "\n",
        "    # Allocate memory for outputs\n",
        "    y_sim = np.empty(T)\n",
        "    y_a_sim = np.empty(T)\n",
        "    B_sim = np.empty(T)\n",
        "    q_sim = np.empty(T)\n",
        "    d_sim = np.empty(T, dtype=int)\n",
        "\n",
        "    # Perform simulation\n",
        "    t = 0\n",
        "    while t < T:\n",
        "\n",
        "        # Store the value of y_t and B_t\n",
        "        y_sim[t] = y_grid[y_idx]\n",
        "        B_sim[t] = B_grid[B_idx]\n",
        "\n",
        "        # if in default:\n",
        "        if v_c[B_idx, y_idx] < v_d[y_idx] or in_default:\n",
        "            y_a_sim[t] = model.def_y[y_idx]\n",
        "            d_sim[t] = 1\n",
        "            Bp_idx = B0_idx\n",
        "            # Re-enter financial markets next period with prob θ\n",
        "            in_default = False if np.random.rand() < model.θ else True\n",
        "        else:\n",
        "            y_a_sim[t] = y_sim[t]\n",
        "            d_sim[t] = 0\n",
        "            Bp_idx = B_star[B_idx, y_idx]\n",
        "\n",
        "        q_sim[t] = q[Bp_idx, y_idx]\n",
        "\n",
        "        # Update time and indices\n",
        "        t += 1\n",
        "        y_idx = y_sim_indices[t]\n",
        "        B_idx = Bp_idx\n",
        "\n",
        "    return y_sim, y_a_sim, B_sim, q_sim, d_sim"
      ],
      "metadata": {
        "id": "fJ16rJpiduuP"
      },
      "execution_count": 8,
      "outputs": []
    },
    {
      "cell_type": "code",
      "source": [
        "ae = Arellano_Economy()"
      ],
      "metadata": {
        "id": "KeDWddg6dyHt"
      },
      "execution_count": 11,
      "outputs": []
    },
    {
      "cell_type": "code",
      "source": [
        "v_c, v_d, q, B_star = solve(ae)"
      ],
      "metadata": {
        "id": "MPZkHcTAd5Hs",
        "outputId": "155b524c-6c9a-4188-d8f2-7412e4086784",
        "colab": {
          "base_uri": "https://localhost:8080/",
          "height": 564
        }
      },
      "execution_count": 14,
      "outputs": [
        {
          "output_type": "stream",
          "name": "stdout",
          "text": [
            "Entering iteration 0.\n"
          ]
        },
        {
          "output_type": "error",
          "ename": "TypingError",
          "evalue": "Failed in nopython mode pipeline (step: nopython frontend)\nFailed in nopython mode pipeline (step: nopython frontend)\nNameError: name 'u' is not defined\nDuring: resolving callee type: type(CPUDispatcher(<function T_d at 0x799f49a80820>))\nDuring: typing of call at <ipython-input-6-e15b529fbbc5> (21)\n\nDuring: resolving callee type: type(CPUDispatcher(<function T_d at 0x799f49a80820>))\nDuring: typing of call at <ipython-input-6-e15b529fbbc5> (21)\n\n\nFile \"<ipython-input-6-e15b529fbbc5>\", line 21:\ndef update_values_and_prices(v_c, v_d,      # Current guess of value functions\n    <source elided>\n    for y_idx in prange(y_grid_size):\n        new_v_d[y_idx] = T_d(y_idx, v_c, v_d, params, arrays)\n        ^\n",
          "traceback": [
            "\u001b[0;31m---------------------------------------------------------------------------\u001b[0m",
            "\u001b[0;31mTypingError\u001b[0m                               Traceback (most recent call last)",
            "\u001b[0;32m<ipython-input-14-73640deaba47>\u001b[0m in \u001b[0;36m<cell line: 1>\u001b[0;34m()\u001b[0m\n\u001b[0;32m----> 1\u001b[0;31m \u001b[0mv_c\u001b[0m\u001b[0;34m,\u001b[0m \u001b[0mv_d\u001b[0m\u001b[0;34m,\u001b[0m \u001b[0mq\u001b[0m\u001b[0;34m,\u001b[0m \u001b[0mB_star\u001b[0m \u001b[0;34m=\u001b[0m \u001b[0msolve\u001b[0m\u001b[0;34m(\u001b[0m\u001b[0mae\u001b[0m\u001b[0;34m)\u001b[0m\u001b[0;34m\u001b[0m\u001b[0;34m\u001b[0m\u001b[0m\n\u001b[0m",
            "\u001b[0;32m<ipython-input-7-d59432bf5866>\u001b[0m in \u001b[0;36msolve\u001b[0;34m(model, tol, max_iter)\u001b[0m\n\u001b[1;32m     24\u001b[0m             \u001b[0mprint\u001b[0m\u001b[0;34m(\u001b[0m\u001b[0;34mf\"Entering iteration {current_iter}.\"\u001b[0m\u001b[0;34m)\u001b[0m\u001b[0;34m\u001b[0m\u001b[0;34m\u001b[0m\u001b[0m\n\u001b[1;32m     25\u001b[0m \u001b[0;34m\u001b[0m\u001b[0m\n\u001b[0;32m---> 26\u001b[0;31m         \u001b[0mnew_v_c\u001b[0m\u001b[0;34m,\u001b[0m \u001b[0mnew_v_d\u001b[0m \u001b[0;34m=\u001b[0m \u001b[0mupdate_values_and_prices\u001b[0m\u001b[0;34m(\u001b[0m\u001b[0mv_c\u001b[0m\u001b[0;34m,\u001b[0m \u001b[0mv_d\u001b[0m\u001b[0;34m,\u001b[0m \u001b[0mB_star\u001b[0m\u001b[0;34m,\u001b[0m \u001b[0mq\u001b[0m\u001b[0;34m,\u001b[0m \u001b[0mparams\u001b[0m\u001b[0;34m,\u001b[0m \u001b[0marrays\u001b[0m\u001b[0;34m)\u001b[0m\u001b[0;34m\u001b[0m\u001b[0;34m\u001b[0m\u001b[0m\n\u001b[0m\u001b[1;32m     27\u001b[0m         \u001b[0;31m# Check tolerance and update\u001b[0m\u001b[0;34m\u001b[0m\u001b[0;34m\u001b[0m\u001b[0m\n\u001b[1;32m     28\u001b[0m         \u001b[0mdist\u001b[0m \u001b[0;34m=\u001b[0m \u001b[0mnp\u001b[0m\u001b[0;34m.\u001b[0m\u001b[0mmax\u001b[0m\u001b[0;34m(\u001b[0m\u001b[0mnp\u001b[0m\u001b[0;34m.\u001b[0m\u001b[0mabs\u001b[0m\u001b[0;34m(\u001b[0m\u001b[0mnew_v_c\u001b[0m \u001b[0;34m-\u001b[0m \u001b[0mv_c\u001b[0m\u001b[0;34m)\u001b[0m\u001b[0;34m)\u001b[0m \u001b[0;34m+\u001b[0m \u001b[0mnp\u001b[0m\u001b[0;34m.\u001b[0m\u001b[0mmax\u001b[0m\u001b[0;34m(\u001b[0m\u001b[0mnp\u001b[0m\u001b[0;34m.\u001b[0m\u001b[0mabs\u001b[0m\u001b[0;34m(\u001b[0m\u001b[0mnew_v_d\u001b[0m \u001b[0;34m-\u001b[0m \u001b[0mv_d\u001b[0m\u001b[0;34m)\u001b[0m\u001b[0;34m)\u001b[0m\u001b[0;34m\u001b[0m\u001b[0;34m\u001b[0m\u001b[0m\n",
            "\u001b[0;32m/usr/local/lib/python3.10/dist-packages/numba/core/dispatcher.py\u001b[0m in \u001b[0;36m_compile_for_args\u001b[0;34m(self, *args, **kws)\u001b[0m\n\u001b[1;32m    466\u001b[0m                 \u001b[0me\u001b[0m\u001b[0;34m.\u001b[0m\u001b[0mpatch_message\u001b[0m\u001b[0;34m(\u001b[0m\u001b[0mmsg\u001b[0m\u001b[0;34m)\u001b[0m\u001b[0;34m\u001b[0m\u001b[0;34m\u001b[0m\u001b[0m\n\u001b[1;32m    467\u001b[0m \u001b[0;34m\u001b[0m\u001b[0m\n\u001b[0;32m--> 468\u001b[0;31m             \u001b[0merror_rewrite\u001b[0m\u001b[0;34m(\u001b[0m\u001b[0me\u001b[0m\u001b[0;34m,\u001b[0m \u001b[0;34m'typing'\u001b[0m\u001b[0;34m)\u001b[0m\u001b[0;34m\u001b[0m\u001b[0;34m\u001b[0m\u001b[0m\n\u001b[0m\u001b[1;32m    469\u001b[0m         \u001b[0;32mexcept\u001b[0m \u001b[0merrors\u001b[0m\u001b[0;34m.\u001b[0m\u001b[0mUnsupportedError\u001b[0m \u001b[0;32mas\u001b[0m \u001b[0me\u001b[0m\u001b[0;34m:\u001b[0m\u001b[0;34m\u001b[0m\u001b[0;34m\u001b[0m\u001b[0m\n\u001b[1;32m    470\u001b[0m             \u001b[0;31m# Something unsupported is present in the user code, add help info\u001b[0m\u001b[0;34m\u001b[0m\u001b[0;34m\u001b[0m\u001b[0m\n",
            "\u001b[0;32m/usr/local/lib/python3.10/dist-packages/numba/core/dispatcher.py\u001b[0m in \u001b[0;36merror_rewrite\u001b[0;34m(e, issue_type)\u001b[0m\n\u001b[1;32m    407\u001b[0m                 \u001b[0;32mraise\u001b[0m \u001b[0me\u001b[0m\u001b[0;34m\u001b[0m\u001b[0;34m\u001b[0m\u001b[0m\n\u001b[1;32m    408\u001b[0m             \u001b[0;32melse\u001b[0m\u001b[0;34m:\u001b[0m\u001b[0;34m\u001b[0m\u001b[0;34m\u001b[0m\u001b[0m\n\u001b[0;32m--> 409\u001b[0;31m                 \u001b[0;32mraise\u001b[0m \u001b[0me\u001b[0m\u001b[0;34m.\u001b[0m\u001b[0mwith_traceback\u001b[0m\u001b[0;34m(\u001b[0m\u001b[0;32mNone\u001b[0m\u001b[0;34m)\u001b[0m\u001b[0;34m\u001b[0m\u001b[0;34m\u001b[0m\u001b[0m\n\u001b[0m\u001b[1;32m    410\u001b[0m \u001b[0;34m\u001b[0m\u001b[0m\n\u001b[1;32m    411\u001b[0m         \u001b[0margtypes\u001b[0m \u001b[0;34m=\u001b[0m \u001b[0;34m[\u001b[0m\u001b[0;34m]\u001b[0m\u001b[0;34m\u001b[0m\u001b[0;34m\u001b[0m\u001b[0m\n",
            "\u001b[0;31mTypingError\u001b[0m: Failed in nopython mode pipeline (step: nopython frontend)\nFailed in nopython mode pipeline (step: nopython frontend)\nNameError: name 'u' is not defined\nDuring: resolving callee type: type(CPUDispatcher(<function T_d at 0x799f49a80820>))\nDuring: typing of call at <ipython-input-6-e15b529fbbc5> (21)\n\nDuring: resolving callee type: type(CPUDispatcher(<function T_d at 0x799f49a80820>))\nDuring: typing of call at <ipython-input-6-e15b529fbbc5> (21)\n\n\nFile \"<ipython-input-6-e15b529fbbc5>\", line 21:\ndef update_values_and_prices(v_c, v_d,      # Current guess of value functions\n    <source elided>\n    for y_idx in prange(y_grid_size):\n        new_v_d[y_idx] = T_d(y_idx, v_c, v_d, params, arrays)\n        ^\n"
          ]
        }
      ]
    },
    {
      "cell_type": "code",
      "source": [
        "# Unpack some useful names\n",
        "B_grid, y_grid, P = ae.B_grid, ae.y_grid, ae.P\n",
        "B_grid_size, y_grid_size = len(B_grid), len(y_grid)\n",
        "r = ae.r\n",
        "\n",
        "# Create \"Y High\" and \"Y Low\" values as 5% devs from mean\n",
        "high, low = np.mean(y_grid) * 1.05, np.mean(y_grid) * .95\n",
        "iy_high, iy_low = (np.searchsorted(y_grid, x) for x in (high, low))\n",
        "\n",
        "fig, ax = plt.subplots(figsize=(10, 6.5))\n",
        "ax.set_title(\"Bond price schedule $q(y, B')$\")\n",
        "\n",
        "# Extract a suitable plot grid\n",
        "x = []\n",
        "q_low = []\n",
        "q_high = []\n",
        "for i, B in enumerate(B_grid):\n",
        "    if -0.35 <= B <= 0:  # To match fig 3 of Arellano\n",
        "        x.append(B)\n",
        "        q_low.append(q[i, iy_low])\n",
        "        q_high.append(q[i, iy_high])\n",
        "ax.plot(x, q_high, label=\"$y_H$\", lw=2, alpha=0.7)\n",
        "ax.plot(x, q_low, label=\"$y_L$\", lw=2, alpha=0.7)\n",
        "ax.set_xlabel(\"$B'$\")\n",
        "ax.legend(loc='upper left', frameon=False)\n",
        "plt.show()"
      ],
      "metadata": {
        "id": "G8H6PulreDMJ",
        "outputId": "6b72c31a-325c-4a77-d890-eef64ee14d51",
        "colab": {
          "base_uri": "https://localhost:8080/",
          "height": 780
        }
      },
      "execution_count": 13,
      "outputs": [
        {
          "output_type": "error",
          "ename": "NameError",
          "evalue": "name 'q' is not defined",
          "traceback": [
            "\u001b[0;31m---------------------------------------------------------------------------\u001b[0m",
            "\u001b[0;31mNameError\u001b[0m                                 Traceback (most recent call last)",
            "\u001b[0;32m<ipython-input-13-0c8a18fcb8e5>\u001b[0m in \u001b[0;36m<cell line: 17>\u001b[0;34m()\u001b[0m\n\u001b[1;32m     18\u001b[0m     \u001b[0;32mif\u001b[0m \u001b[0;34m-\u001b[0m\u001b[0;36m0.35\u001b[0m \u001b[0;34m<=\u001b[0m \u001b[0mB\u001b[0m \u001b[0;34m<=\u001b[0m \u001b[0;36m0\u001b[0m\u001b[0;34m:\u001b[0m  \u001b[0;31m# To match fig 3 of Arellano\u001b[0m\u001b[0;34m\u001b[0m\u001b[0;34m\u001b[0m\u001b[0m\n\u001b[1;32m     19\u001b[0m         \u001b[0mx\u001b[0m\u001b[0;34m.\u001b[0m\u001b[0mappend\u001b[0m\u001b[0;34m(\u001b[0m\u001b[0mB\u001b[0m\u001b[0;34m)\u001b[0m\u001b[0;34m\u001b[0m\u001b[0;34m\u001b[0m\u001b[0m\n\u001b[0;32m---> 20\u001b[0;31m         \u001b[0mq_low\u001b[0m\u001b[0;34m.\u001b[0m\u001b[0mappend\u001b[0m\u001b[0;34m(\u001b[0m\u001b[0mq\u001b[0m\u001b[0;34m[\u001b[0m\u001b[0mi\u001b[0m\u001b[0;34m,\u001b[0m \u001b[0miy_low\u001b[0m\u001b[0;34m]\u001b[0m\u001b[0;34m)\u001b[0m\u001b[0;34m\u001b[0m\u001b[0;34m\u001b[0m\u001b[0m\n\u001b[0m\u001b[1;32m     21\u001b[0m         \u001b[0mq_high\u001b[0m\u001b[0;34m.\u001b[0m\u001b[0mappend\u001b[0m\u001b[0;34m(\u001b[0m\u001b[0mq\u001b[0m\u001b[0;34m[\u001b[0m\u001b[0mi\u001b[0m\u001b[0;34m,\u001b[0m \u001b[0miy_high\u001b[0m\u001b[0;34m]\u001b[0m\u001b[0;34m)\u001b[0m\u001b[0;34m\u001b[0m\u001b[0;34m\u001b[0m\u001b[0m\n\u001b[1;32m     22\u001b[0m \u001b[0max\u001b[0m\u001b[0;34m.\u001b[0m\u001b[0mplot\u001b[0m\u001b[0;34m(\u001b[0m\u001b[0mx\u001b[0m\u001b[0;34m,\u001b[0m \u001b[0mq_high\u001b[0m\u001b[0;34m,\u001b[0m \u001b[0mlabel\u001b[0m\u001b[0;34m=\u001b[0m\u001b[0;34m\"$y_H$\"\u001b[0m\u001b[0;34m,\u001b[0m \u001b[0mlw\u001b[0m\u001b[0;34m=\u001b[0m\u001b[0;36m2\u001b[0m\u001b[0;34m,\u001b[0m \u001b[0malpha\u001b[0m\u001b[0;34m=\u001b[0m\u001b[0;36m0.7\u001b[0m\u001b[0;34m)\u001b[0m\u001b[0;34m\u001b[0m\u001b[0;34m\u001b[0m\u001b[0m\n",
            "\u001b[0;31mNameError\u001b[0m: name 'q' is not defined"
          ]
        },
        {
          "output_type": "display_data",
          "data": {
            "text/plain": [
              "<Figure size 1000x650 with 1 Axes>"
            ],
            "image/png": "[encoded data removed]"
          },
          "metadata": {}
        }
      ]
    }
  ]
}
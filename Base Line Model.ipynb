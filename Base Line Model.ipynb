{
  "nbformat": 4,
  "nbformat_minor": 0,
  "metadata": {
    "colab": {
      "provenance": [],
      "authorship_tag": "ABX9TyPee/YoQl3rxclIElzckK9Y",
      "include_colab_link": true
    },
    "kernelspec": {
      "name": "python3",
      "display_name": "Python 3"
    },
    "language_info": {
      "name": "python"
    }
  },
  "cells": [
    {
      "cell_type": "markdown",
      "metadata": {
        "id": "view-in-github",
        "colab_type": "text"
      },
      "source": [
        "<a href=\"https://colab.research.google.com/github/Bibirara/Natural-Disaster-Shock/blob/main/Base%20Line%20Model.ipynb\" target=\"_parent\"><img src=\"https://colab.research.google.com/assets/colab-badge.svg\" alt=\"Open In Colab\"/></a>"
      ]
    },
    {
      "cell_type": "code",
      "execution_count": 2,
      "metadata": {
        "id": "UtC-3KKC3s_l",
        "outputId": "20286882-e4af-405e-be5c-ee11b2ae416a",
        "colab": {
          "base_uri": "https://localhost:8080/"
        }
      },
      "outputs": [
        {
          "output_type": "stream",
          "name": "stdout",
          "text": [
            "Requirement already satisfied: quantecon in /usr/local/lib/python3.10/dist-packages (0.7.2)\n",
            "Requirement already satisfied: numba>=0.49.0 in /usr/local/lib/python3.10/dist-packages (from quantecon) (0.58.1)\n",
            "Requirement already satisfied: numpy>=1.17.0 in /usr/local/lib/python3.10/dist-packages (from quantecon) (1.25.2)\n",
            "Requirement already satisfied: requests in /usr/local/lib/python3.10/dist-packages (from quantecon) (2.31.0)\n",
            "Requirement already satisfied: scipy>=1.5.0 in /usr/local/lib/python3.10/dist-packages (from quantecon) (1.11.4)\n",
            "Requirement already satisfied: sympy in /usr/local/lib/python3.10/dist-packages (from quantecon) (1.12)\n",
            "Requirement already satisfied: llvmlite<0.42,>=0.41.0dev0 in /usr/local/lib/python3.10/dist-packages (from numba>=0.49.0->quantecon) (0.41.1)\n",
            "Requirement already satisfied: charset-normalizer<4,>=2 in /usr/local/lib/python3.10/dist-packages (from requests->quantecon) (3.3.2)\n",
            "Requirement already satisfied: idna<4,>=2.5 in /usr/local/lib/python3.10/dist-packages (from requests->quantecon) (3.7)\n",
            "Requirement already satisfied: urllib3<3,>=1.21.1 in /usr/local/lib/python3.10/dist-packages (from requests->quantecon) (2.0.7)\n",
            "Requirement already satisfied: certifi>=2017.4.17 in /usr/local/lib/python3.10/dist-packages (from requests->quantecon) (2024.2.2)\n",
            "Requirement already satisfied: mpmath>=0.19 in /usr/local/lib/python3.10/dist-packages (from sympy->quantecon) (1.3.0)\n"
          ]
        }
      ],
      "source": [
        "!pip install --upgrade quantecon\n",
        "import matplotlib.pyplot as plt\n",
        "import numpy as np\n",
        "import quantecon as qe\n",
        "\n",
        "from numba import njit, prange\n",
        "%matplotlib inline"
      ]
    },
    {
      "cell_type": "code",
      "source": [
        "class Arellano_Economy:\n",
        "    \" Stores data and creates primitives for the Arellano economy. \"\n",
        "\n",
        "    def __init__(self,\n",
        "            B_grid_size= 251,   # Grid size for bonds\n",
        "            B_grid_min=-0.45,   # Smallest B value\n",
        "            B_grid_max=0.45,    # Largest B value\n",
        "            y_grid_size=51,     # Grid size for income\n",
        "            β=0.953,            # Time discount parameter\n",
        "            γ=2.0,              # Utility parameter\n",
        "            r=0.017,            # Lending rate\n",
        "            ρ=0.945,            # Persistence in the income process\n",
        "            η=0.025,            # Standard deviation of the income process\n",
        "            θ=0.282,            # Prob of re-entering financial markets\n",
        "            def_y_param=0.969): # Parameter governing income in default\n",
        "\n",
        "        # Save parameters\n",
        "        self.β, self.γ, self.r, = β, γ, r\n",
        "        self.ρ, self.η, self.θ = ρ, η, θ\n",
        "\n",
        "        self.y_grid_size = y_grid_size\n",
        "        self.B_grid_size = B_grid_size\n",
        "        self.B_grid = np.linspace(B_grid_min, B_grid_max, B_grid_size)\n",
        "        mc = qe.markov.tauchen(y_grid_size, ρ, η, 0, 3)\n",
        "        self.y_grid, self.P = np.exp(mc.state_values), mc.P\n",
        "\n",
        "        # The index at which B_grid is (close to) zero\n",
        "        self.B0_idx = np.searchsorted(self.B_grid, 1e-10)\n",
        "\n",
        "        # Output recieved while in default, with same shape as y_grid\n",
        "        self.def_y = np.minimum(def_y_param * np.mean(self.y_grid), self.y_grid)\n",
        "\n",
        "    def params(self):\n",
        "        return self.β, self.γ, self.r, self.ρ, self.η, self.θ\n",
        "\n",
        "    def arrays(self):\n",
        "        return self.P, self.y_grid, self.B_grid, self.def_y, self.B0_idx"
      ],
      "metadata": {
        "id": "-mdvb8yS9LZ_"
      },
      "execution_count": 4,
      "outputs": []
    }
  ]
}